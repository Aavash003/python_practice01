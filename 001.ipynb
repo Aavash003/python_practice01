{
 "cells": [
  {
   "cell_type": "markdown",
   "id": "74fa975f",
   "metadata": {},
   "source": [
    "# Simple Codes,Comments,Variables and Operators"
   ]
  },
  {
   "cell_type": "code",
   "execution_count": 81,
   "id": "088e9ee7",
   "metadata": {},
   "outputs": [
    {
     "name": "stdout",
     "output_type": "stream",
     "text": [
      "Hello World\n",
      "4\n",
      "True\n"
     ]
    }
   ],
   "source": [
    "#printing simple programs\n",
    "print(\"Hello World\")\n",
    "print(2+2)\n",
    "print(True)"
   ]
  },
  {
   "cell_type": "code",
   "execution_count": 82,
   "id": "c8ea04ce",
   "metadata": {},
   "outputs": [
    {
     "name": "stdout",
     "output_type": "stream",
     "text": [
      "This is Sam's book.\n",
      "This is Sam's book\n"
     ]
    }
   ],
   "source": [
    "print(\"This is Sam's book.\")\n",
    "print('This is Sam\\'s book')#see the difference if we use single quotation marks to print strings"
   ]
  },
  {
   "cell_type": "code",
   "execution_count": 83,
   "id": "ef138a97",
   "metadata": {},
   "outputs": [
    {
     "name": "stdout",
     "output_type": "stream",
     "text": [
      "1\n",
      "4\n",
      "13\n",
      "<class 'int'>\n",
      "<class 'str'>\n",
      "<class 'str'>\n"
     ]
    }
   ],
   "source": [
    "print(1)\n",
    "print(1+3)\n",
    "print(\"1\"+\"3\")\n",
    "x = 1\n",
    "y = '1'\n",
    "z = \"1\"\n",
    "print(type(x))\n",
    "print(type(y))\n",
    "print(type(z))"
   ]
  },
  {
   "cell_type": "code",
   "execution_count": 84,
   "id": "7d9d2f3a",
   "metadata": {},
   "outputs": [
    {
     "name": "stdout",
     "output_type": "stream",
     "text": [
      "1\n",
      "2.8\n",
      "<class 'float'>\n"
     ]
    }
   ],
   "source": [
    "x,y,z = 1,2.8,3.99 #multiple variables assignmet in a single line\n",
    "print(x)\n",
    "print(y)\n",
    "print(type(z))"
   ]
  },
  {
   "cell_type": "code",
   "execution_count": 85,
   "id": "aeae3a43",
   "metadata": {},
   "outputs": [
    {
     "name": "stdout",
     "output_type": "stream",
     "text": [
      "100 100 100\n"
     ]
    }
   ],
   "source": [
    "x = y = z = 100 #assigning same value to multiple variables in a single statement\n",
    "print(x,y,z)"
   ]
  },
  {
   "cell_type": "code",
   "execution_count": 86,
   "id": "09ad33f9",
   "metadata": {},
   "outputs": [
    {
     "data": {
      "text/plain": [
       "2"
      ]
     },
     "execution_count": 86,
     "metadata": {},
     "output_type": "execute_result"
    }
   ],
   "source": [
    "import math#It will be study in module chapter\n",
    "math.floor(2.999999999999999)#when we write more than 15 digits after decimal it will return ceil value \n",
    "math.ceil(2.0000000000000001)#when we write more than 15 \"0\" digits and then only one \"1\" digit after decimal it will return floor value "
   ]
  },
  {
   "cell_type": "code",
   "execution_count": 87,
   "id": "1c03ff6a",
   "metadata": {},
   "outputs": [
    {
     "data": {
      "text/plain": [
       "1000"
      ]
     },
     "execution_count": 87,
     "metadata": {},
     "output_type": "execute_result"
    }
   ],
   "source": [
    "#Arithmetic operator\n",
    "#+,-,*,/,%(modulus or remainder operator),//(floor division operator,You get the answer to the nearest whole number.),**(Exponential operator)\n",
    "a = 10\n",
    "b = a**3 #b = a*a*a\n",
    "b"
   ]
  },
  {
   "cell_type": "code",
   "execution_count": 88,
   "id": "3e354308",
   "metadata": {},
   "outputs": [
    {
     "data": {
      "text/plain": [
       "50"
      ]
     },
     "execution_count": 88,
     "metadata": {},
     "output_type": "execute_result"
    }
   ],
   "source": [
    "#Assignment operator\n",
    "#'=',x+=y(short for x=x+y),**=,-=,etc\n",
    "x = 10\n",
    "y = 20\n",
    "x+=y\n",
    "x#Here, value of x becomes 30\n",
    "x = x+y\n",
    "x"
   ]
  },
  {
   "cell_type": "code",
   "execution_count": 89,
   "id": "3c82126d",
   "metadata": {},
   "outputs": [
    {
     "data": {
      "text/plain": [
       "True"
      ]
     },
     "execution_count": 89,
     "metadata": {},
     "output_type": "execute_result"
    }
   ],
   "source": [
    "#Comparison or Relational operators\n",
    "#>(strictly greater than),<(strictly less than),==,!=,>=,<=\n",
    "#Result of comparison operator is always a Boolean value i.e. True or False\n",
    "x = 10\n",
    "y = 40\n",
    "x<y"
   ]
  },
  {
   "cell_type": "code",
   "execution_count": 103,
   "id": "659f1833",
   "metadata": {},
   "outputs": [
    {
     "data": {
      "text/plain": [
       "False"
      ]
     },
     "execution_count": 103,
     "metadata": {},
     "output_type": "execute_result"
    }
   ],
   "source": [
    "#Logical operator\n",
    "#AND,OR,not\n",
    "# Note:Logical AND operator evaluates operands from left to right, \n",
    "#     returning immediately with the value of the first falsy operand\n",
    "#     it encounters; if all values are truthy, the value of the last operand is returned. \n",
    "#     If a value can be converted to true , the value is so-called truthy.\n",
    "5>2 and 3>1\n",
    "3>2 or 1<0\n",
    "not(2>5 and 5<4)\n",
    "2>1 or 5<3 or 2<1\n",
    "2>1 and 4>2 and 7<4\n",
    "print(1 and 2)\n",
    "print(1 and 0)\n",
    "print(0 and 1)\n",
    "print(0 and 0)\n",
    "print(1 or 2)\n",
    "print(1 or 0)\n",
    "print(0 or 1)\n",
    "print(0 or 0)"
   ]
  },
  {
   "cell_type": "code",
   "execution_count": 91,
   "id": "9caa4137",
   "metadata": {},
   "outputs": [
    {
     "name": "stdout",
     "output_type": "stream",
     "text": [
      "7\n",
      "1\n",
      "6\n",
      "-4\n",
      "0b1111\n",
      "12\n",
      "2\n"
     ]
    }
   ],
   "source": [
    "#Bitwise operator\n",
    "#Bitwise OR(|),AND(&),XOR(^),NOT(~),zero fill left shift(<<),signed right shift(>>)\n",
    "print(3|5)\n",
    "print(3&5)\n",
    "print(3^5)\n",
    "print(~3)\n",
    "print(bin(15))\n",
    "print(3<<2)#Here, 3 is left shifted by 2 bits\n",
    "print(5>>1)#Here, 5 is right shifted by 1 bits"
   ]
  },
  {
   "cell_type": "code",
   "execution_count": 92,
   "id": "ca4762a7",
   "metadata": {},
   "outputs": [
    {
     "name": "stdout",
     "output_type": "stream",
     "text": [
      "4\n"
     ]
    }
   ],
   "source": [
    "##Precedence of operators\n",
    "# parenthesis : ()\n",
    "# Exponential : **\n",
    "# Division,Multiplication,Modulus,Floor division : /,*,%,//\n",
    "# Addition,Subtraction : +,-\n",
    "# Bitwise AND : &\n",
    "# Bitwise XOR : ^\n",
    "# Bitwise OR  : |\n",
    "# Relational operator : >,>=,<,<=,==,!=\n",
    "# Logical NOT : not\n",
    "# Logical AND : and\n",
    "# Logical OR  : or\n",
    "print(1+3&5)"
   ]
  },
  {
   "cell_type": "code",
   "execution_count": 93,
   "id": "d63c9c02",
   "metadata": {},
   "outputs": [
    {
     "name": "stdout",
     "output_type": "stream",
     "text": [
      "1\n",
      "6\n",
      "0\n",
      "False\n",
      "True\n"
     ]
    }
   ],
   "source": [
    "#operator associativity\n",
    "# Sometimes in an expression, you may see the operators with the same\n",
    "# precedence. Most of the operators except exponential operator ( ** )\n",
    "# evaluates from left to right. In this context, you can remember that you used\n",
    "# assignment operators for variables, such as x=5 . This evaluates from right to\n",
    "# left.\n",
    "print(5*8%3)\n",
    "print(10*2//3)\n",
    "print(10*(2//3))\n",
    "x=10\n",
    "y=20\n",
    "z=30\n",
    "print((x<y) & (y>z))\n",
    "print((x<y) | (y>z))\n"
   ]
  },
  {
   "cell_type": "code",
   "execution_count": 94,
   "id": "f1690c8c",
   "metadata": {},
   "outputs": [],
   "source": [
    "#Identity operators\n",
    "# is,is not"
   ]
  },
  {
   "cell_type": "code",
   "execution_count": 95,
   "id": "ead3c517",
   "metadata": {},
   "outputs": [],
   "source": [
    "#Membership operators\n",
    "# in, not in"
   ]
  },
  {
   "cell_type": "code",
   "execution_count": 96,
   "id": "ef1bb0f4",
   "metadata": {},
   "outputs": [
    {
     "name": "stdout",
     "output_type": "stream",
     "text": [
      "         *           \n",
      "    *          *     \n",
      "  *              *   \n",
      "*-------------------*\n"
     ]
    }
   ],
   "source": [
    "#ex9 Book page65\n",
    "print(\"         *           \")\n",
    "print(\"    *          *     \")\n",
    "print(\"  *              *   \")\n",
    "print(\"*-------------------*\")"
   ]
  },
  {
   "cell_type": "code",
   "execution_count": 97,
   "id": "a73352f2",
   "metadata": {},
   "outputs": [
    {
     "name": "stdout",
     "output_type": "stream",
     "text": [
      "---------------------------------------------------------------\n",
      "Spencer Retail\n",
      "136, Garia Station Road,\n",
      "Kolkata:700084\n",
      "---------------------------------------------------------------\n",
      "Product(s)   Price (per pack)\n",
      "Apricot      300\n",
      "Dates        400\n",
      "Almond       500\n",
      "Combo-1      630.0\n",
      "Combo-2      810.0\n",
      "Combo-3      720.0\n",
      "GiftBox      900.0\n",
      "***************************************************************\n",
      "For free delivery, contact 123-456-789\n",
      "***************************************************************\n"
     ]
    }
   ],
   "source": [
    "#case study1\n",
    "print(\"---------------------------------------------------------------\")\n",
    "print(\"Spencer Retail\")\n",
    "print(\"136, Garia Station Road,\")\n",
    "print(\"Kolkata:700084\")\n",
    "print(\"---------------------------------------------------------------\")\n",
    "print(\"Product(s)   Price (per pack)\")\n",
    "print(\"Apricot      300\")\n",
    "print(\"Dates        400\")\n",
    "print(\"Almond       500\")\n",
    "print(\"Combo-1      630.0\")\n",
    "print(\"Combo-2      810.0\")\n",
    "print(\"Combo-3      720.0\")\n",
    "print(\"GiftBox      900.0\")\n",
    "print(\"***************************************************************\")\n",
    "print(\"For free delivery, contact 123-456-789\")\n",
    "print(\"***************************************************************\")"
   ]
  },
  {
   "cell_type": "markdown",
   "id": "bc57a719",
   "metadata": {},
   "source": [
    "# Common DataTypes"
   ]
  },
  {
   "cell_type": "code",
   "execution_count": 98,
   "id": "14969636",
   "metadata": {},
   "outputs": [
    {
     "name": "stdout",
     "output_type": "stream",
     "text": [
      "Hello\u0007World\n",
      "Hello\bHai\n"
     ]
    }
   ],
   "source": [
    "print(\"Hello\\aWorld\")#\\a, for beep sound but not working\n",
    "print(\"Hello\\bHai\")#\\b, for backspace"
   ]
  },
  {
   "cell_type": "code",
   "execution_count": 99,
   "id": "20051624",
   "metadata": {},
   "outputs": [
    {
     "name": "stdout",
     "output_type": "stream",
     "text": [
      "'Hello'\n",
      "\"Hello\"\n",
      "\"Hello\"\n",
      "'Hello'\n"
     ]
    }
   ],
   "source": [
    "print('\\'Hello\\'')\n",
    "print(\"\\\"Hello\\\"\")#inserts characters after backslash\n",
    "print('\"Hello\"')#double quotation inside single quotation\n",
    "print(\"'Hello'\")#single quotation inside double quotation"
   ]
  },
  {
   "cell_type": "code",
   "execution_count": 100,
   "id": "689ebd09",
   "metadata": {},
   "outputs": [
    {
     "name": "stdout",
     "output_type": "stream",
     "text": [
      "Hello,I am Aavash.\n"
     ]
    }
   ],
   "source": [
    "name = \"Aavash.\"\n",
    "Intro = 'Hello,I am '\n",
    "print(Intro+name)"
   ]
  },
  {
   "cell_type": "code",
   "execution_count": 101,
   "id": "3ae9098a",
   "metadata": {},
   "outputs": [
    {
     "data": {
      "text/plain": [
       "'John'"
      ]
     },
     "execution_count": 101,
     "metadata": {},
     "output_type": "execute_result"
    }
   ],
   "source": [
    "name = \"john\"\n",
    "name.capitalize()"
   ]
  },
  {
   "cell_type": "code",
   "execution_count": 102,
   "id": "e3ebbeb0",
   "metadata": {},
   "outputs": [
    {
     "name": "stdout",
     "output_type": "stream",
     "text": [
      "False\n",
      "True\n",
      "H\n",
      "1\n",
      "1\n",
      "Hello World, I am John KC\n"
     ]
    }
   ],
   "source": [
    "name = \"Hello World, I am Aavash KC\"\n",
    "print(name.upper().islower())\n",
    "print(name.upper().isupper())\n",
    "print(name[0])\n",
    "print(name.index(\"e\"))#the first occurance of 'e' character\n",
    "print(name.index(\"el\"))#the first occurance of \"el\" character\n",
    "print(name.replace(\"Aavash\",\"John\"))"
   ]
  },
  {
   "cell_type": "code",
   "execution_count": 131,
   "id": "cb956e2f",
   "metadata": {},
   "outputs": [
    {
     "name": "stdout",
     "output_type": "stream",
     "text": [
      "2\n",
      "3\n",
      "Hello,Ramesh!\n",
      "Round off of 2.51 is 3\n",
      "Round off of 2.5 is 2\n",
      "4\n"
     ]
    }
   ],
   "source": [
    "x = 2\n",
    "y = \"3\"\n",
    "print(str(x))#converting int value to string\n",
    "print(int(y,base=10))\n",
    "name = \"Ramesh\"\n",
    "print(f\"Hello,{name}!\")#use of f-strings or format strings\n",
    "print(\"Round off of 2.51 is\",round(2.51))#use of round function\n",
    "print(\"Round off of 2.5 is\",round(2.5))#use of round function\n",
    "print(max(1,2,3,4))# use of max function"
   ]
  },
  {
   "cell_type": "code",
   "execution_count": 136,
   "id": "d70a64ed",
   "metadata": {},
   "outputs": [
    {
     "name": "stdout",
     "output_type": "stream",
     "text": [
      "The square root of 5 is: 2.23606797749979\n",
      "The e^3 is:20.085536923187668\n"
     ]
    }
   ],
   "source": [
    "import math as m\n",
    "print(f\"The square root of 5 is: {m.sqrt(5)}\")\n",
    "print(f\"The e^3 is:{m.exp(3)}\")"
   ]
  },
  {
   "cell_type": "markdown",
   "id": "a6fec5e2",
   "metadata": {},
   "source": [
    "# Exercise Book page no 94"
   ]
  },
  {
   "cell_type": "code",
   "execution_count": 137,
   "id": "9fe5fa8a",
   "metadata": {},
   "outputs": [
    {
     "name": "stdout",
     "output_type": "stream",
     "text": [
      "Enter a number:2\n",
      "Enter a number:3\n",
      "2.5\n"
     ]
    }
   ],
   "source": [
    "#1\n",
    "num1 = int(input('Enter a number:'))\n",
    "num2 = int(input(\"Enter a number:\"))\n",
    "print((num1+num2)/2)"
   ]
  },
  {
   "cell_type": "code",
   "execution_count": 141,
   "id": "3682eefa",
   "metadata": {},
   "outputs": [
    {
     "name": "stdout",
     "output_type": "stream",
     "text": [
      "Hello, \n",
      "Reader!\n",
      "Hello,\n",
      "Reader!\n",
      "Hello,\n",
      "Reader!\n"
     ]
    }
   ],
   "source": [
    "#2\n",
    "text = \"Hello,\"\n",
    "print(text,\"\\nReader!\")\n",
    "print(f\"{text}\\nReader!\")\n",
    "print(text+\"\\nReader!\")"
   ]
  },
  {
   "cell_type": "code",
   "execution_count": 143,
   "id": "812cd687",
   "metadata": {},
   "outputs": [
    {
     "name": "stdout",
     "output_type": "stream",
     "text": [
      " The height of Andrew is 6'9'' \n"
     ]
    }
   ],
   "source": [
    "#3\n",
    "print(\" The height of Andrew is 6'9'' \")"
   ]
  },
  {
   "cell_type": "code",
   "execution_count": 149,
   "id": "9885b3e1",
   "metadata": {},
   "outputs": [
    {
     "name": "stdout",
     "output_type": "stream",
     "text": [
      "12.5\n",
      "4.0\n",
      "Difference of x and y is: 7.5\n"
     ]
    }
   ],
   "source": [
    "#4\n",
    "x,y = 10,2.5\n",
    "print(x+y)\n",
    "print(x/y)\n",
    "print(\"Difference of x and y is:\",x-y)\n",
    "#print(\"x*y=:\"+x*y)\n",
    "#print(x+\"is stored in x.\")"
   ]
  },
  {
   "cell_type": "code",
   "execution_count": 148,
   "id": "8a673163",
   "metadata": {},
   "outputs": [
    {
     "name": "stdout",
     "output_type": "stream",
     "text": [
      "Enter the value of radius:6\n",
      "The area of a circle is:113.03999999999999\n"
     ]
    }
   ],
   "source": [
    "#6\n",
    "radius = float(input(\"Enter the value of radius:\"))\n",
    "print(f\"The area of a circle is:{3.14*radius*radius}\")"
   ]
  },
  {
   "cell_type": "code",
   "execution_count": 1,
   "id": "a1f4e93c",
   "metadata": {},
   "outputs": [
    {
     "name": "stdout",
     "output_type": "stream",
     "text": [
      "True\n",
      "False\n"
     ]
    },
    {
     "data": {
      "text/plain": [
       "True"
      ]
     },
     "execution_count": 1,
     "metadata": {},
     "output_type": "execute_result"
    }
   ],
   "source": [
    "a = -5# -5 to 256 it shows same id of objects but not outside this range\n",
    "b = -5\n",
    "print(id(a) == id(b))  \n",
    "#print(id(b))\n",
    "\n",
    "x = 1000\n",
    "y = 1000\n",
    "print(id(x) == id(y))\n",
    "a is b\n",
    "#x is y"
   ]
  },
  {
   "cell_type": "code",
   "execution_count": 14,
   "id": "84b264e8",
   "metadata": {},
   "outputs": [
    {
     "name": "stdout",
     "output_type": "stream",
     "text": [
      "{1, 2, 3}\n"
     ]
    }
   ],
   "source": []
  },
  {
   "cell_type": "code",
   "execution_count": 5,
   "id": "875cbdf0",
   "metadata": {},
   "outputs": [
    {
     "name": "stdout",
     "output_type": "stream",
     "text": [
      "{1, 2, 3}\n"
     ]
    }
   ],
   "source": [
    "s1 = {2,3,1}\n",
    "print(s1)"
   ]
  },
  {
   "cell_type": "code",
   "execution_count": null,
   "id": "0d928001",
   "metadata": {},
   "outputs": [],
   "source": []
  }
 ],
 "metadata": {
  "kernelspec": {
   "display_name": "Python 3 (ipykernel)",
   "language": "python",
   "name": "python3"
  },
  "language_info": {
   "codemirror_mode": {
    "name": "ipython",
    "version": 3
   },
   "file_extension": ".py",
   "mimetype": "text/x-python",
   "name": "python",
   "nbconvert_exporter": "python",
   "pygments_lexer": "ipython3",
   "version": "3.11.4"
  }
 },
 "nbformat": 4,
 "nbformat_minor": 5
}
